{
 "cells": [
  {
   "cell_type": "markdown",
   "metadata": {
    "id": "cp3A7idIElnQ"
   },
   "source": [
    "# <center>INTRODUÇÃO A LINGUAGEM MARKDOWN</center>\n",
    "\n",
    "\n",
    "________________________\n",
    "Por: Juliana A. Santos\n",
    "\n",
    "🧑 💻 \n",
    "\n",
    "[LinkedIn](https://www.linkedin.com/in/juliana-a-santos/)\n",
    "\n",
    "\n",
    "[GitHub](https://github.com/Julibio7)\n",
    "\n",
    "[Twitter](https://twitter.com/JuSantos7)\n",
    "\n",
    "______________________\n",
    "\n"
   ]
  },
  {
   "cell_type": "markdown",
   "metadata": {
    "id": "BVAuEs1Sqcmz"
   },
   "source": [
    "___________________________________\n",
    "# **Markdown**\n",
    "\n",
    "\n",
    "> ### O que é?\n",
    "Markdown é uma linguagem de marcação, assim como o HTML. Ele é um jeito de escrever em texto puro, deixando anotações sobre a formatação.\n",
    "\n",
    "__________________________________"
   ]
  },
  {
   "cell_type": "markdown",
   "metadata": {
    "id": "hLMP67gtWLFi"
   },
   "source": [
    "## **Tamanhos de texto**\n",
    "```\n",
    "# H1\n",
    "## H2\n",
    "### H3\n",
    "#### H4\n",
    "##### H5\n",
    "###### H6\n",
    "```\n",
    "Alternativas, para H1 e *H2*:\n",
    "\n",
    "```\n",
    "Alt-H1\n",
    "======\n",
    "\n",
    "Alt-H2\n",
    "------\n",
    "```"
   ]
  },
  {
   "cell_type": "markdown",
   "metadata": {
    "id": "JMeRuwfMTVcu"
   },
   "source": [
    "##**Cabeçalhos**\n",
    "\n",
    "```\n",
    "# Título\n",
    "## Sub-título\n",
    "### Sub-sub-título\n",
    "```\n",
    "Saída:\n",
    "# Título\n",
    "## Sub-título\n",
    "### Sub-sub-título"
   ]
  },
  {
   "cell_type": "markdown",
   "metadata": {
    "id": "WmzU2JVOrayx"
   },
   "source": [
    "## **Negrito** e *Itálico*\n",
    "\n",
    "Para formatar o texto como negrito, coloque-o entre dois asteriscos, exemplo:\n",
    "\n",
    "```\n",
    "**O Oceano Antártico**\n",
    "```\n",
    "Para usar texto itálico use um underscore (_) ou só um asterisco(*).\n",
    "\n",
    "```\n",
    "*Aspergillus*\n",
    "_Fusarium_\n",
    "```\n",
    "\n",
    "Tudo em negrito e itálico\n",
    "\n",
    "```\n",
    "***Rosmarinus officinalis, Ocimum basilicum***\n",
    "```"
   ]
  },
  {
   "cell_type": "markdown",
   "metadata": {
    "id": "FEcpKpWCdW3H"
   },
   "source": []
  },
  {
   "cell_type": "markdown",
   "metadata": {
    "id": "FpkJGHZtuzN3"
   },
   "source": [
    "# **Subscrito e  Sobrescrito**\n",
    "\n",
    "subscrito\n",
    "\n",
    "Para criar um subscrito, use um símbolo de til ( ~) antes e depois dos caracteres.\n",
    "\n",
    "\n",
    "    H~2~O\n",
    "\n",
    "<code>Para escrever H2O\n",
    "       H~2~O\n",
    "</code>\n",
    "\n",
    "Sobrescrito\n",
    "Para criar um sobrescrito, use um símbolo de acento circunflexo ( ^) antes e depois dos caracteres.\n",
    "\n",
    "```\n",
    "X^2^\n",
    "\n",
    "```\n",
    "<code> \n",
    "helo \n",
    "</code>\n",
    "\n"
   ]
  },
  {
   "cell_type": "markdown",
   "metadata": {
    "id": "NcCOT1qAC0oi"
   },
   "source": [
    "#**Texto Marcado**\n",
    "Para marcar um texto podemos usar a tag `<mark>`\n",
    "\n",
    "```\n",
    "Texto <mark>marcado</mark>\n",
    "\n",
    "```"
   ]
  },
  {
   "cell_type": "markdown",
   "metadata": {
    "id": "zw-qjBbwEb46"
   },
   "source": [
    "# **Lista**\n",
    "\n",
    "##**Listas desordenada**\n",
    "\n",
    "\n",
    "Para criar uma lista não ordenada com o markdown podemos usar tanto *, \n",
    "\n",
    "quanto — ou +, todos têm a mesma funcionalidade, \n",
    "\n",
    "para criar uma sublista, apenas insira dois espaço ou um tab no item, exemplo:\n",
    "\n",
    "\n",
    "```\n",
    "* Bactérias\n",
    "* Fungos\n",
    "  * Micro-organismos\n",
    "  * Micologia\n",
    "    * Leveduras\n",
    "    * Fungos Filamentosos\n",
    "```\n",
    "A saída fica assim:\n",
    "\n",
    "* Bactérias\n",
    "* Fungos\n",
    "  * Micro-organismos\n",
    "  * Micologia\n",
    "    * Leveduras\n",
    "    * Fungos Filamentosos\n"
   ]
  },
  {
   "cell_type": "markdown",
   "metadata": {
    "id": "ZV99UMczGB8M"
   },
   "source": [
    "##**Lista ordenada**\n",
    "Para uma lista ordenada adicione os números:\n",
    "```\n",
    "1.  Fungos endofíticos\n",
    "2.  Fungos micorrízicos\n",
    "3.  Fungos ectomicorrízicos\n",
    "```\n",
    "\n"
   ]
  },
  {
   "cell_type": "markdown",
   "metadata": {
    "id": "dIVt_WlxWq8Z"
   },
   "source": [
    "##**Listas aninhadas**\n",
    "\n",
    "```\n",
    "1. Primeiro item da lista\n",
    "    - Primeiro item da lista aninhada\n",
    "      - Segundo item da lista aninhada\n",
    "```\n",
    "Saída:\n",
    "1. Primeiro item da lista\n",
    "    - Primeiro item da lista aninhada\n",
    "      - Segundo item da lista aninhada"
   ]
  },
  {
   "cell_type": "markdown",
   "metadata": {
    "id": "ClQIsORYGmc0"
   },
   "source": [
    "##**Lista de Tarefas**\n",
    "Para uma lista de tarefas adicione os colchetes com espaço, para marcar adicione um X para marcar, exemplo:\n",
    "\n",
    "```\n",
    "- [ ] Preparar meio de cultivo\n",
    "- [x] Autoclavar material\n",
    "- [x] Fazer os inoculos \n",
    "\n",
    "```\n",
    "A saída renderizada fica assim:\n",
    "- [ ] Preparar meio de cultivo\n",
    "- [x] Autoclavar material\n",
    "- [x] Fazer os inoculos \n",
    "\n"
   ]
  },
  {
   "cell_type": "markdown",
   "metadata": {
    "id": "VSaN_g40HHSI"
   },
   "source": [
    "##**Link**\n",
    "Para criar link [texto a ser exibido](link, “título”).\n",
    "\n",
    "exemplo 1:\n",
    "```\n",
    "[Google](https://www.google.com,  \"Site do Google\")\n",
    "\n",
    "```\n",
    "exemplo 2:\n",
    "```\n",
    "[Meu link do LinkedIn](https://www.linkedin.com/in/juliana-a-santos/)\n",
    "```\n",
    "Saída:\n",
    "\n",
    "[Meu link do LinkedIn](https://www.linkedin.com/in/juliana-a-santos/)\n",
    "\n"
   ]
  },
  {
   "cell_type": "markdown",
   "metadata": {
    "id": "KzgA95W5HYtg"
   },
   "source": [
    "##**Imagens**\n",
    "Também podemos adicionar referência nas imagens, exemplo:\n",
    "\n",
    "```\n",
    "Reference-style:\n",
    "![alt text][logo]\n",
    "<!-- Referencias -->\n",
    "[logo]: https://github.com/adam-p/markdown-here/raw/master/src/common/images/icon48.png \"Logo Title Text 2\"\n",
    "\n",
    "```\n",
    "Se quiser personalizar a altura ou largura da imagem use o html diretamente.\n",
    "\n",
    "```\n",
    "\n",
    "<img src=\"https://media.giphy.com/media/lPoxtQlcX30doRbHTN/giphy.gif\" width=\"42\" height=\"42\">\n",
    "```"
   ]
  },
  {
   "cell_type": "markdown",
   "metadata": {
    "id": "jYPZsxBgINWQ"
   },
   "source": []
  },
  {
   "cell_type": "markdown",
   "metadata": {
    "id": "EKjeD3gbIkLe"
   },
   "source": [
    "#**Citação**\n",
    "\n",
    "para adicionar citações adicione o sinal de maior que(>), exemplo:\n",
    "\n",
    "```\n",
    ">Texto usando citação\n",
    "```\n",
    "```\n",
    "> 1 \n",
    ">> 2 \n",
    ">>> 3\n",
    ">>>> 4 \n",
    ">>>>>>>> 8\n",
    "```\n",
    "Saída:\n",
    "\n",
    "> \"In an honest search for knowledge you quite often have to abide by ignorance for an indefinite period… The steadfastness in standing up to [this requirement], nay in appreciating it as a stimulus and a signpost to further quest, is a natural and indispensable disposition in the mind of a scientist.”\n",
    ">> Erwin Schrodinger, Nature and the Greeks \n",
    " \n",
    "\n",
    "\n",
    "\n"
   ]
  },
  {
   "cell_type": "markdown",
   "metadata": {
    "id": "fXusj-LSJAdw"
   },
   "source": [
    "#**Usando códigos**\n",
    "Usando uma crase `, o texto ficará marcado, exemplo:\n",
    "\n",
    "```\n",
    "`code`\n",
    "```\n",
    "Saída : `code`\n",
    "\n",
    "\n",
    "Para usar códigos grande use 3 crases,\n",
    " exemplo:\n",
    "\n",
    "\n",
    "```\n",
    "a = python\n",
    "print(\"a\")\n",
    "```\n",
    "\n",
    "\n"
   ]
  },
  {
   "cell_type": "markdown",
   "metadata": {
    "id": "sfjEfURDIP9R"
   },
   "source": [
    "##**Linha Horizontal**\n",
    "\n",
    "Para criar uma linha horizontal use 3 asteriscos ou sinal de hífen ou underscore.\n",
    "\n",
    "```\n",
    "---\n",
    "***\n",
    "___\n",
    "\n",
    "```"
   ]
  },
  {
   "cell_type": "markdown",
   "metadata": {
    "id": "DsT3vnedIlfC"
   },
   "source": [
    "##**Centralizando itens**\n",
    "\n",
    "Para centralizar itens no markdown é necessário usar a tag `<center>`\n",
    "\n",
    "```\n",
    "<center>Item centralizado</center>\n",
    "\n",
    "```"
   ]
  },
  {
   "cell_type": "markdown",
   "metadata": {
    "id": "fLYICE8uJ3vp"
   },
   "source": [
    "##**Tabela**\n",
    "Escolha os títulos das colunas e use  `| ` para delimitar as colunas. Depois, utilize hífen — na segunda linha para indicar que acima estão os títulos das colunas, usando novamente o `| `para delimitar colunas.\n",
    "Para especificar o tipo de alinhamento que deseja ter nas tabelas, utilize : ao lado do campo horizontal de hífens `— -`, na segunda linha da sua tabela. \n",
    "\n",
    "Veja abaixo:\n",
    "\n",
    "\n",
    "- **Alinhado a esquerda**`:` usar `:`no lado esquerdo (alinhamento padrão);\n",
    "- **Alinhado a direita**`::` usar `:` no lado direito;\n",
    "- **Centralizado**`:` usar `:` dos dois lados.\n",
    "\n",
    "```\n",
    "| Alinhado a esquerda | Centralizado | Alinhado a direita |\n",
    "| :------------------ | :----------: | -----------------: |\n",
    "| Valor               | Valor        | Valor              |\n",
    "| Valor               | Valor        | Valor              |\n",
    "| Valor               | Valor        | Valor              |\n",
    "\n",
    "```\n",
    "Saída:\n",
    "\n",
    "\n",
    "| Alinhado a esquerda | Centralizado | Alinhado a direita |\n",
    "| :------------------ | :----------: | -----------------: |\n",
    "| Valor               | Valor        | Valor              |\n",
    "| Valor               | Valor        | Valor              |\n",
    "| Valor               | Valor        | Valor              |"
   ]
  },
  {
   "cell_type": "markdown",
   "metadata": {
    "id": "DzfEGtV-o5ZD"
   },
   "source": [
    "**mais um exemplo de tabela**\n"
   ]
  },
  {
   "cell_type": "markdown",
   "metadata": {
    "id": "9-NyBF3Vo1w5"
   },
   "source": [
    "Markdown | Preview\n",
    "--- | ---\n",
    "`**bold text**` | **bold text**\n",
    "`*italicized text*` or `_italicized text_` | *italicized text*\n",
    "`` `Monospace` `` | `Monospace`\n",
    "`~~strikethrough~~` | ~~strikethrough~~\n",
    "`[A link](https://www.google.com)` | [A link](https://www.google.com)\n",
    "`![An image](https://www.google.com/images/rss.png)` | ![An image](https://www.google.com/images/rss.png)\n"
   ]
  },
  {
   "cell_type": "markdown",
   "metadata": {
    "id": "q33t63HHo4C1"
   },
   "source": []
  }
 ],
 "metadata": {
  "colab": {
   "name": "Markdown",
   "provenance": []
  },
  "kernelspec": {
   "display_name": "Python 3 (ipykernel)",
   "language": "python",
   "name": "python3"
  },
  "language_info": {
   "codemirror_mode": {
    "name": "ipython",
    "version": 3
   },
   "file_extension": ".py",
   "mimetype": "text/x-python",
   "name": "python",
   "nbconvert_exporter": "python",
   "pygments_lexer": "ipython3",
   "version": "3.9.5"
  }
 },
 "nbformat": 4,
 "nbformat_minor": 1
}
